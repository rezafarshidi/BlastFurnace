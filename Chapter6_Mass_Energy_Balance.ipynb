{
 "cells": [
  {
   "cell_type": "code",
   "execution_count": 3,
   "metadata": {},
   "outputs": [],
   "source": [
    "import numpy as np"
   ]
  },
  {
   "cell_type": "code",
   "execution_count": 55,
   "metadata": {},
   "outputs": [],
   "source": [
    "variables =['Fe2O3_charge','C_charge','O2_blast','N2_offgas','Fe_product','CO_offgas','CO2_offgas','N2_blast']"
   ]
  },
  {
   "cell_type": "code",
   "execution_count": 56,
   "metadata": {},
   "outputs": [
    {
     "data": {
      "text/plain": [
       "array([[ 0.    ,  0.    ,  0.    ,  0.    ,  1.    ,  0.    ,  0.    ,\n",
       "         0.    ,  0.    ],\n",
       "       [-0.699 ,  0.    ,  0.    ,  0.    ,  1.    ,  0.    ,  0.    ,\n",
       "         0.    ,  0.    ],\n",
       "       [-0.301 ,  0.    , -1.    ,  0.    ,  0.    ,  0.    ,  0.571 ,\n",
       "         0.727 ,  0.    ],\n",
       "       [ 0.    , -1.    ,  0.    ,  0.    ,  0.    ,  1.    ,  0.429 ,\n",
       "         0.273 ,  0.    ],\n",
       "       [ 0.    ,  0.    ,  0.    , -1.    ,  0.    ,  0.    ,  0.    ,\n",
       "         0.    ,  1.    ],\n",
       "       [ 0.    ,  0.    ,  3.3   , -1.    ,  0.    ,  0.    ,  0.    ,\n",
       "         0.    ,  0.    ],\n",
       "       [ 0.    ,  1.    ,  0.    ,  0.    ,  0.    ,  0.    ,  0.    ,\n",
       "         0.    ,  0.    ],\n",
       "       [ 0.    ,  0.    ,  0.    ,  0.    ,  0.047 , -1.    ,  0.    ,\n",
       "         0.    ,  0.    ],\n",
       "       [ 5.169 ,  0.    , -1.352 , -1.463 ,  1.269 ,  5.    , -3.836 ,\n",
       "        -8.844 ,  0.1099]])"
      ]
     },
     "execution_count": 56,
     "metadata": {},
     "output_type": "execute_result"
    }
   ],
   "source": [
    "a=np.array([[0,      0,     0,      0,        1,       0,       0,       0,       0],\\\n",
    "            [-0.699, 0,     0,      0,        1,       0,       0,       0,       0],\\\n",
    "            [-0.301, 0,    -1,      0,        0,       0,   0.571,   0.727,       0],\\\n",
    "            [0,     -1,     0,      0,        0,       1,   0.429,   0.273,       0],\\\n",
    "            [0,      0,     0,      -1,       0,       0,       0,       0,       1],\\\n",
    "            [0,      0,   3.3,      -1,       0,       0,       0,       0,       0],\\\n",
    "            [0,      1,     0,       0,       0,       0,       0,       0,       0],\\\n",
    "            [0,      0,     0,       0,   0.047,      -1,       0,       0,       0],\\\n",
    "            [5.169,  0, -1.352,  -1.463,  1.269,       5,  -3.836,  -8.844,  0.1099]])\n",
    "a"
   ]
  },
  {
   "cell_type": "code",
   "execution_count": 57,
   "metadata": {},
   "outputs": [
    {
     "data": {
      "text/plain": [
       "array([1000,    0,    0,    0,    0,    0,  400,    0, -400])"
      ]
     },
     "execution_count": 57,
     "metadata": {},
     "output_type": "execute_result"
    }
   ],
   "source": [
    "y = np.array([1000, 0, 0, 0, 0, 0, 400, 0, -400])\n",
    "y"
   ]
  },
  {
   "cell_type": "code",
   "execution_count": 58,
   "metadata": {},
   "outputs": [
    {
     "data": {
      "text/plain": [
       "array([1430.61516452,  400.        ,  291.70083268,  962.61274785,\n",
       "       1000.        ,   47.        ,  381.01751772,  694.29847948,\n",
       "        962.61274785])"
      ]
     },
     "execution_count": 58,
     "metadata": {},
     "output_type": "execute_result"
    }
   ],
   "source": [
    "x = np.linalg.solve(a, y)\n",
    "x"
   ]
  },
  {
   "cell_type": "code",
   "execution_count": 71,
   "metadata": {},
   "outputs": [
    {
     "data": {
      "text/plain": [
       "[1430, 400, 291, 962, 1000, 47, 381, 694, 962]"
      ]
     },
     "execution_count": 71,
     "metadata": {},
     "output_type": "execute_result"
    }
   ],
   "source": [
    "results=[int(w) for w in x]\n",
    "results"
   ]
  },
  {
   "cell_type": "code",
   "execution_count": 72,
   "metadata": {},
   "outputs": [],
   "source": [
    "rdict = {a:b for (a,b) in zip(variables,results)}\n",
    "from operator import itemgetter\n",
    "rdict.get('Fe2O3_charge',-999)\n",
    "Fe2O3_charge=rdict.get('Fe2O3_charge',-999)\n",
    "for key in rdict:\n",
    "    locals()[key] = rdict[key]"
   ]
  },
  {
   "cell_type": "code",
   "execution_count": 73,
   "metadata": {},
   "outputs": [],
   "source": [
    "a = [1,2,4,5,12,16]\n",
    "b = [5,2,8]"
   ]
  },
  {
   "cell_type": "code",
   "execution_count": 74,
   "metadata": {},
   "outputs": [
    {
     "name": "stdout",
     "output_type": "stream",
     "text": [
      "1 5\n",
      "2 2\n",
      "4 8\n"
     ]
    },
    {
     "ename": "IndexError",
     "evalue": "list index out of range",
     "output_type": "error",
     "traceback": [
      "\u001b[1;31m---------------------------------------------------------------------------\u001b[0m",
      "\u001b[1;31mIndexError\u001b[0m                                Traceback (most recent call last)",
      "\u001b[1;32m<ipython-input-74-6ceb9a607201>\u001b[0m in \u001b[0;36m<module>\u001b[1;34m\u001b[0m\n\u001b[0;32m      1\u001b[0m \u001b[1;32mfor\u001b[0m \u001b[0mi\u001b[0m \u001b[1;32min\u001b[0m \u001b[0mrange\u001b[0m\u001b[1;33m(\u001b[0m\u001b[0mlen\u001b[0m\u001b[1;33m(\u001b[0m\u001b[0ma\u001b[0m\u001b[1;33m)\u001b[0m\u001b[1;33m)\u001b[0m\u001b[1;33m:\u001b[0m\u001b[1;33m\u001b[0m\u001b[1;33m\u001b[0m\u001b[0m\n\u001b[1;32m----> 2\u001b[1;33m     \u001b[0mprint\u001b[0m\u001b[1;33m(\u001b[0m\u001b[0ma\u001b[0m\u001b[1;33m[\u001b[0m\u001b[0mi\u001b[0m\u001b[1;33m]\u001b[0m\u001b[1;33m,\u001b[0m\u001b[0mb\u001b[0m\u001b[1;33m[\u001b[0m\u001b[0mi\u001b[0m\u001b[1;33m]\u001b[0m\u001b[1;33m)\u001b[0m\u001b[1;33m\u001b[0m\u001b[1;33m\u001b[0m\u001b[0m\n\u001b[0m",
      "\u001b[1;31mIndexError\u001b[0m: list index out of range"
     ]
    }
   ],
   "source": [
    "for i in range(len(a)):\n",
    "    print(a[i],b[i])"
   ]
  },
  {
   "cell_type": "code",
   "execution_count": 75,
   "metadata": {},
   "outputs": [
    {
     "data": {
      "text/plain": [
       "[(1, 5), (2, 2), (4, 8)]"
      ]
     },
     "execution_count": 75,
     "metadata": {},
     "output_type": "execute_result"
    }
   ],
   "source": [
    "list(zip(a,b))"
   ]
  },
  {
   "cell_type": "code",
   "execution_count": 63,
   "metadata": {},
   "outputs": [
    {
     "name": "stdout",
     "output_type": "stream",
     "text": [
      "1 5\n",
      "2 2\n",
      "4 8\n"
     ]
    }
   ],
   "source": [
    "for ai,bi in zip(a,b):\n",
    "    print(ai,bi)"
   ]
  },
  {
   "cell_type": "code",
   "execution_count": null,
   "metadata": {},
   "outputs": [],
   "source": []
  }
 ],
 "metadata": {
  "kernelspec": {
   "display_name": "Python 3",
   "language": "python",
   "name": "python3"
  },
  "language_info": {
   "codemirror_mode": {
    "name": "ipython",
    "version": 3
   },
   "file_extension": ".py",
   "mimetype": "text/x-python",
   "name": "python",
   "nbconvert_exporter": "python",
   "pygments_lexer": "ipython3",
   "version": "3.7.6"
  }
 },
 "nbformat": 4,
 "nbformat_minor": 4
}
