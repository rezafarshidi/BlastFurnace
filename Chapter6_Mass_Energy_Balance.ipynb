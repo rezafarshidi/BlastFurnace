{
 "cells": [
  {
   "cell_type": "code",
   "execution_count": 81,
   "metadata": {},
   "outputs": [],
   "source": [
    "import numpy as np\n",
    "from math import floor, ceil"
   ]
  },
  {
   "cell_type": "code",
   "execution_count": 82,
   "metadata": {},
   "outputs": [],
   "source": [
    "variables =['Fe2O3_charge','C_charge','O2_blast','N2_offgas','Fe_product','CO_offgas','CO2_offgas','N2_blast']"
   ]
  },
  {
   "cell_type": "code",
   "execution_count": 83,
   "metadata": {},
   "outputs": [
    {
     "data": {
      "text/plain": [
       "array([[ 0.    ,  0.    ,  0.    ,  0.    ,  1.    ,  0.    ,  0.    ,\n",
       "         0.    ,  0.    ],\n",
       "       [-0.699 ,  0.    ,  0.    ,  0.    ,  1.    ,  0.    ,  0.    ,\n",
       "         0.    ,  0.    ],\n",
       "       [-0.301 ,  0.    , -1.    ,  0.    ,  0.    ,  0.    ,  0.571 ,\n",
       "         0.727 ,  0.    ],\n",
       "       [ 0.    , -1.    ,  0.    ,  0.    ,  0.    ,  1.    ,  0.429 ,\n",
       "         0.273 ,  0.    ],\n",
       "       [ 0.    ,  0.    ,  0.    , -1.    ,  0.    ,  0.    ,  0.    ,\n",
       "         0.    ,  1.    ],\n",
       "       [ 0.    ,  0.    ,  3.3   , -1.    ,  0.    ,  0.    ,  0.    ,\n",
       "         0.    ,  0.    ],\n",
       "       [ 0.    ,  1.    ,  0.    ,  0.    ,  0.    ,  0.    ,  0.    ,\n",
       "         0.    ,  0.    ],\n",
       "       [ 0.    ,  0.    ,  0.    ,  0.    ,  0.047 , -1.    ,  0.    ,\n",
       "         0.    ,  0.    ],\n",
       "       [ 5.169 ,  0.    , -1.352 , -1.463 ,  1.269 ,  5.    , -3.836 ,\n",
       "        -8.844 ,  0.1099]])"
      ]
     },
     "execution_count": 83,
     "metadata": {},
     "output_type": "execute_result"
    }
   ],
   "source": [
    "a=np.array([[0,      0,     0,      0,        1,       0,       0,       0,       0],\\\n",
    "            [-0.699, 0,     0,      0,        1,       0,       0,       0,       0],\\\n",
    "            [-0.301, 0,    -1,      0,        0,       0,   0.571,   0.727,       0],\\\n",
    "            [0,     -1,     0,      0,        0,       1,   0.429,   0.273,       0],\\\n",
    "            [0,      0,     0,      -1,       0,       0,       0,       0,       1],\\\n",
    "            [0,      0,   3.3,      -1,       0,       0,       0,       0,       0],\\\n",
    "            [0,      1,     0,       0,       0,       0,       0,       0,       0],\\\n",
    "            [0,      0,     0,       0,   0.047,      -1,       0,       0,       0],\\\n",
    "            [5.169,  0, -1.352,  -1.463,  1.269,       5,  -3.836,  -8.844,  0.1099]])\n",
    "a"
   ]
  },
  {
   "cell_type": "code",
   "execution_count": 84,
   "metadata": {},
   "outputs": [
    {
     "data": {
      "text/plain": [
       "array([1000,    0,    0,    0,    0,    0,  400,    0, -400])"
      ]
     },
     "execution_count": 84,
     "metadata": {},
     "output_type": "execute_result"
    }
   ],
   "source": [
    "y = np.array([1000, 0, 0, 0, 0, 0, 400, 0, -400])\n",
    "y"
   ]
  },
  {
   "cell_type": "code",
   "execution_count": 108,
   "metadata": {},
   "outputs": [
    {
     "data": {
      "text/plain": [
       "[1431, 400, 292, 963, 1000, 47, 381, 694, 963]"
      ]
     },
     "execution_count": 108,
     "metadata": {},
     "output_type": "execute_result"
    }
   ],
   "source": [
    "x = np.linalg.solve(a, y)\n",
    "results=[int(round(w)) for w in x]"
   ]
  },
  {
   "cell_type": "code",
   "execution_count": 72,
   "metadata": {},
   "outputs": [],
   "source": [
    "rdict = {a:b for (a,b) in zip(variables,results)}\n",
    "from operator import itemgetter\n",
    "rdict.get('Fe2O3_charge',-999)\n",
    "Fe2O3_charge=rdict.get('Fe2O3_charge',-999)\n",
    "for key in rdict:\n",
    "    locals()[key] = rdict[key]"
   ]
  },
  {
   "cell_type": "code",
   "execution_count": 109,
   "metadata": {},
   "outputs": [
    {
     "data": {
      "text/plain": [
       "1430"
      ]
     },
     "execution_count": 109,
     "metadata": {},
     "output_type": "execute_result"
    }
   ],
   "source": [
    "Fe2O3_charge"
   ]
  },
  {
   "cell_type": "code",
   "execution_count": null,
   "metadata": {},
   "outputs": [],
   "source": []
  }
 ],
 "metadata": {
  "kernelspec": {
   "display_name": "Python 3",
   "language": "python",
   "name": "python3"
  },
  "language_info": {
   "codemirror_mode": {
    "name": "ipython",
    "version": 3
   },
   "file_extension": ".py",
   "mimetype": "text/x-python",
   "name": "python",
   "nbconvert_exporter": "python",
   "pygments_lexer": "ipython3",
   "version": "3.7.6"
  }
 },
 "nbformat": 4,
 "nbformat_minor": 4
}
