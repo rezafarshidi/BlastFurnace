{
 "cells": [
  {
   "cell_type": "code",
   "execution_count": 78,
   "metadata": {},
   "outputs": [],
   "source": [
    "import numpy as np"
   ]
  },
  {
   "cell_type": "code",
   "execution_count": 79,
   "metadata": {},
   "outputs": [],
   "source": [
    "Variables =['Fe2O3_charge','C_charge','O2_blast','N2_offgas','Fe_product','CO_offgas','CO2_offgas','N2_blast']"
   ]
  },
  {
   "cell_type": "code",
   "execution_count": 98,
   "metadata": {},
   "outputs": [
    {
     "data": {
      "text/plain": [
       "array([[ 0.    ,  0.    ,  0.    ,  0.    ,  1.    ,  0.    ,  0.    ,\n",
       "         0.    ,  0.    ],\n",
       "       [-0.699 ,  0.    ,  0.    ,  0.    ,  1.    ,  0.    ,  0.    ,\n",
       "         0.    ,  0.    ],\n",
       "       [-0.301 ,  0.    , -1.    ,  0.    ,  0.    ,  0.571 ,  0.727 ,\n",
       "         0.    ,  0.    ],\n",
       "       [ 0.    , -1.    ,  0.    ,  0.    ,  0.    ,  0.429 ,  0.273 ,\n",
       "         0.    ,  0.    ],\n",
       "       [ 0.    ,  0.    ,  0.    , -1.    ,  0.    ,  0.    ,  0.    ,\n",
       "         1.    ,  0.    ],\n",
       "       [ 0.    ,  0.    ,  3.3   , -1.    ,  0.    ,  0.    ,  0.    ,\n",
       "         0.    ,  0.    ],\n",
       "       [ 0.    ,  1.    ,  0.    ,  0.    ,  0.    ,  0.    ,  0.    ,\n",
       "         0.    ,  0.    ],\n",
       "       [ 0.    ,  0.    ,  0.    ,  0.    ,  0.047 , -1.    ,  0.    ,\n",
       "         0.    ,  0.    ],\n",
       "       [ 5.169 ,  0.    , -1.352 , -1.463 ,  1.269 ,  5.    , -3.836 ,\n",
       "        -8.844 ,  0.1099]])"
      ]
     },
     "execution_count": 98,
     "metadata": {},
     "output_type": "execute_result"
    }
   ],
   "source": [
    "a=np.array([[0,      0,     0,      0,       1,       0,       0,       0,       0],\\\n",
    "            [-0.699, 0,     0,      0,       1,       0,       0,       0,       0],\\\n",
    "            [-0.301, 0,    -1,      0,       0,   0.571,   0.727,       0,       0],\\\n",
    "            [0,     -1,     0,      0,       0,   0.429,   0.273,       0,       0],\\\n",
    "            [0,      0,     0,      -1,      0,       0,       0,       1,       0],\\\n",
    "            [0,      0,   3.3,      -1,      0,       0,       0,       0,       0],\\\n",
    "            [0,      1,     0,       0,      0,       0,       0,       0,       0],\\\n",
    "            [0,      0,     0,       0,  0.047,      -1,       0,       0,       0],\\\n",
    "            [5.169,  0, -1.352,  -1.463, 1.269,       5,  -3.836,  -8.844,  0.1099]])\n",
    "a"
   ]
  },
  {
   "cell_type": "code",
   "execution_count": 95,
   "metadata": {},
   "outputs": [
    {
     "data": {
      "text/plain": [
       "array([1000,    0,    0,    0,    0,    0,  400,    0, -400])"
      ]
     },
     "execution_count": 95,
     "metadata": {},
     "output_type": "execute_result"
    }
   ],
   "source": [
    "y = np.array([1000, 0, 0, 0, 0, 0, 400, 0, -400])\n",
    "y"
   ]
  },
  {
   "cell_type": "code",
   "execution_count": 96,
   "metadata": {},
   "outputs": [
    {
     "data": {
      "text/plain": [
       "array([1.43061516e+03, 4.00000000e+02, 6.07729158e+02, 2.00550622e+03,\n",
       "       1.00000000e+03, 4.70000000e+01, 1.39134432e+03, 2.00550622e+03,\n",
       "       1.59515464e+05])"
      ]
     },
     "execution_count": 96,
     "metadata": {},
     "output_type": "execute_result"
    }
   ],
   "source": [
    "x = np.linalg.solve(a, y)\n",
    "x"
   ]
  },
  {
   "cell_type": "code",
   "execution_count": null,
   "metadata": {},
   "outputs": [],
   "source": []
  }
 ],
 "metadata": {
  "kernelspec": {
   "display_name": "Python 3",
   "language": "python",
   "name": "python3"
  },
  "language_info": {
   "codemirror_mode": {
    "name": "ipython",
    "version": 3
   },
   "file_extension": ".py",
   "mimetype": "text/x-python",
   "name": "python",
   "nbconvert_exporter": "python",
   "pygments_lexer": "ipython3",
   "version": "3.7.6"
  }
 },
 "nbformat": 4,
 "nbformat_minor": 4
}
