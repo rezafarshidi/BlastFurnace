{
 "cells": [
  {
   "cell_type": "code",
   "execution_count": 13,
   "metadata": {},
   "outputs": [],
   "source": [
    "import numpy as np"
   ]
  },
  {
   "cell_type": "code",
   "execution_count": 14,
   "metadata": {},
   "outputs": [],
   "source": [
    "Variables =['O2_blast','N2_blast','Fe2O3_charge','C_charge','N2_offgas','CO_offgas','CO2_offgas','Fe_product']"
   ]
  },
  {
   "cell_type": "code",
   "execution_count": 21,
   "metadata": {},
   "outputs": [],
   "source": [
    "A=np.array([[0, 0, 0.699, 1, 0, 0, 0, -1],\\\n",
    "  [1, 0, 0.301, 0, 0, -0.571, -0.727, 0],\\\n",
    "  [0, 0, 0, 0, 0, 0, -0.429, -0.273, 0,],\\\n",
    "  [0, 1, 0, 0, -1, 0, 0, 0],\\\n",
    "  [-0.767, 0.233, 0, 0, 0, 0, 0, 0],\\\n",
    "  [0, 0, 0, 0, 0, 0, 0, 1],\\\n",
    "  [0, 0, 0, 1, 0, 0, 0, 0],\\\n",
    "  [1, 0, 0, 0, 0, 0, 0, 0]])"
   ]
  },
  {
   "cell_type": "code",
   "execution_count": null,
   "metadata": {},
   "outputs": [],
   "source": [
    "Y = np.array([0, 0, 0, 0, 0, 1000, 400, 370])"
   ]
  }
 ],
 "metadata": {
  "kernelspec": {
   "display_name": "Python 3",
   "language": "python",
   "name": "python3"
  },
  "language_info": {
   "codemirror_mode": {
    "name": "ipython",
    "version": 3
   },
   "file_extension": ".py",
   "mimetype": "text/x-python",
   "name": "python",
   "nbconvert_exporter": "python",
   "pygments_lexer": "ipython3",
   "version": "3.7.6"
  }
 },
 "nbformat": 4,
 "nbformat_minor": 4
}
