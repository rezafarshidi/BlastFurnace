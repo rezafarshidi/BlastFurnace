{
 "cells": [
  {
   "cell_type": "code",
   "execution_count": 78,
   "metadata": {},
   "outputs": [],
   "source": [
    "import numpy as np"
   ]
  },
  {
   "cell_type": "code",
   "execution_count": 79,
   "metadata": {},
   "outputs": [],
   "source": [
    "Variables =['Fe2O3_charge','C_charge','O2_blast','N2_offgas','Fe_product','CO_offgas','CO2_offgas','N2_blast']"
   ]
  },
  {
   "cell_type": "code",
   "execution_count": 83,
   "metadata": {},
   "outputs": [
    {
     "data": {
      "text/plain": [
       "array([[ 0.   ,  0.   ,  0.   ,  0.   ,  1.   ,  0.   ,  0.   ,  0.   ],\n",
       "       [-0.699,  0.   ,  0.   ,  0.   ,  1.   ,  0.   ,  0.   ,  0.   ],\n",
       "       [-0.301,  0.   , -1.   ,  0.   ,  0.   ,  0.571,  0.727,  0.   ],\n",
       "       [ 0.   , -1.   ,  0.   ,  0.   ,  0.   ,  0.429,  0.273,  0.   ],\n",
       "       [ 0.   ,  0.   ,  0.   , -1.   ,  0.   ,  0.   ,  0.   ,  1.   ],\n",
       "       [ 0.   ,  0.   ,  3.3  , -1.   ,  0.   ,  0.   ,  0.   ,  0.   ],\n",
       "       [ 0.   ,  1.   ,  0.   ,  0.   ,  0.   ,  0.   ,  0.   ,  0.   ],\n",
       "       [ 0.   ,  0.   ,  1.   ,  0.   ,  0.   ,  0.   ,  0.   ,  0.   ]])"
      ]
     },
     "execution_count": 83,
     "metadata": {},
     "output_type": "execute_result"
    }
   ],
   "source": [
    "a=np.array([[0, 0, 0, 0, 1, 0, 0, 0],\\\n",
    "            [-0.699, 0, 0, 0, 1, 0, 0, 0],\\\n",
    "            [-0.301, 0, -1, 0, 0, 0.571, 0.727, 0],\\\n",
    "            [0, -1, 0, 0, 0, 0.429, 0.273, 0],\\\n",
    "            [0, 0, 0, -1, 0, 0, 0, 1],\\\n",
    "            [0, 0, 3.3, -1, 0, 0, 0, 0],\\\n",
    "            [0, 1, 0, 0, 0, 0, 0, 0],\\\n",
    "            [0, 0, 1, 0, 0, 0, 0, 0]])\n",
    "a"
   ]
  },
  {
   "cell_type": "code",
   "execution_count": 84,
   "metadata": {},
   "outputs": [
    {
     "data": {
      "text/plain": [
       "array([1000,    0,    0,    0,    0,    0,  400,  370])"
      ]
     },
     "execution_count": 84,
     "metadata": {},
     "output_type": "execute_result"
    }
   ],
   "source": [
    "y = np.array([1000, 0, 0, 0, 0, 0, 400, 370])\n",
    "y"
   ]
  },
  {
   "cell_type": "code",
   "execution_count": 85,
   "metadata": {},
   "outputs": [
    {
     "data": {
      "text/plain": [
       "array([1430.61516452,  400.        ,  370.        , 1221.        ,\n",
       "       1000.        ,  463.02602619,  737.58913833, 1221.        ])"
      ]
     },
     "execution_count": 85,
     "metadata": {},
     "output_type": "execute_result"
    }
   ],
   "source": [
    "x = np.linalg.solve(a, y)\n",
    "x"
   ]
  },
  {
   "cell_type": "code",
   "execution_count": 77,
   "metadata": {},
   "outputs": [
    {
     "data": {
      "text/plain": [
       "'Fe2O3_charge'"
      ]
     },
     "execution_count": 77,
     "metadata": {},
     "output_type": "execute_result"
    }
   ],
   "source": [
    "Variables[0]"
   ]
  },
  {
   "cell_type": "code",
   "execution_count": null,
   "metadata": {},
   "outputs": [],
   "source": []
  }
 ],
 "metadata": {
  "kernelspec": {
   "display_name": "Python 3",
   "language": "python",
   "name": "python3"
  },
  "language_info": {
   "codemirror_mode": {
    "name": "ipython",
    "version": 3
   },
   "file_extension": ".py",
   "mimetype": "text/x-python",
   "name": "python",
   "nbconvert_exporter": "python",
   "pygments_lexer": "ipython3",
   "version": "3.7.6"
  }
 },
 "nbformat": 4,
 "nbformat_minor": 4
}
